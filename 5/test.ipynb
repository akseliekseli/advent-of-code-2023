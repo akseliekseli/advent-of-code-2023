{
 "cells": [
  {
   "cell_type": "code",
   "execution_count": 9,
   "metadata": {},
   "outputs": [
    {
     "ename": "KeyboardInterrupt",
     "evalue": "",
     "output_type": "error",
     "traceback": [
      "\u001b[0;31m---------------------------------------------------------------------------\u001b[0m",
      "\u001b[0;31mKeyboardInterrupt\u001b[0m                         Traceback (most recent call last)",
      "\u001b[1;32m/home/akseli/Documents/codes/advent-of-code-2023/5/test.ipynb Cell 1\u001b[0m line \u001b[0;36m3\n\u001b[1;32m     <a href='vscode-notebook-cell:/home/akseli/Documents/codes/advent-of-code-2023/5/test.ipynb#W0sZmlsZQ%3D%3D?line=31'>32</a>\u001b[0m     destination_range \u001b[39m=\u001b[39m np\u001b[39m.\u001b[39marange(row_list[\u001b[39m0\u001b[39m], row_list[\u001b[39m0\u001b[39m]\u001b[39m+\u001b[39mrow_list[\u001b[39m2\u001b[39m]\u001b[39m+\u001b[39m\u001b[39m1\u001b[39m)\n\u001b[1;32m     <a href='vscode-notebook-cell:/home/akseli/Documents/codes/advent-of-code-2023/5/test.ipynb#W0sZmlsZQ%3D%3D?line=33'>34</a>\u001b[0m     \u001b[39mfor\u001b[39;00m idx, seed \u001b[39min\u001b[39;00m \u001b[39menumerate\u001b[39m(seeds):\n\u001b[0;32m---> <a href='vscode-notebook-cell:/home/akseli/Documents/codes/advent-of-code-2023/5/test.ipynb#W0sZmlsZQ%3D%3D?line=35'>36</a>\u001b[0m         \u001b[39mif\u001b[39;00m np\u001b[39m.\u001b[39many(source_range\u001b[39m==\u001b[39;49mseed):\n\u001b[1;32m     <a href='vscode-notebook-cell:/home/akseli/Documents/codes/advent-of-code-2023/5/test.ipynb#W0sZmlsZQ%3D%3D?line=36'>37</a>\u001b[0m             help_map\u001b[39m.\u001b[39mappend(destination_range[np\u001b[39m.\u001b[39mwhere(source_range\u001b[39m==\u001b[39mseed)])\n\u001b[1;32m     <a href='vscode-notebook-cell:/home/akseli/Documents/codes/advent-of-code-2023/5/test.ipynb#W0sZmlsZQ%3D%3D?line=40'>41</a>\u001b[0m \u001b[39mprint\u001b[39m(\u001b[39mf\u001b[39m\u001b[39m'\u001b[39m\u001b[39mSeeds \u001b[39m\u001b[39m{\u001b[39;00mseeds\u001b[39m}\u001b[39;00m\u001b[39m'\u001b[39m)\n",
      "\u001b[0;31mKeyboardInterrupt\u001b[0m: "
     ]
    }
   ],
   "source": [
    "import csv\n",
    "import numpy as np\n",
    "rows = []\n",
    "with open('data.csv', newline='') as csvfile:\n",
    "    spamreader = csv.reader(csvfile, delimiter=' ')\n",
    "    for row in spamreader:\n",
    "        rows.append(row)\n",
    "\n",
    "\n",
    "seeds = []\n",
    "help_map = []\n",
    "for idx, row in enumerate(rows):\n",
    "    if idx==0:\n",
    "        for value in row:\n",
    "            if value.isdigit():\n",
    "                seeds.append(int(value))\n",
    "        continue\n",
    "    \n",
    "    if not row:\n",
    "        continue\n",
    "\n",
    "    if help_map and not row[0].isdigit():\n",
    "        seeds = help_map\n",
    "        help_map = []\n",
    "        continue\n",
    "    elif not row[0].isdigit():\n",
    "        continue\n",
    "    \n",
    "    row_list = [int(i) for i in row]\n",
    "\n",
    "    source_range = np.arange(row_list[1], row_list[1]+row_list[2]+1)\n",
    "    destination_range = np.arange(row_list[0], row_list[0]+row_list[2]+1)\n",
    "\n",
    "    for idx, seed in enumerate(seeds):\n",
    "        \n",
    "        if np.any(source_range==seed):\n",
    "            help_map.append(destination_range[np.where(source_range==seed)])\n",
    "\n",
    "\n",
    "\n",
    "print(f'Seeds {seeds}')\n",
    "print(f'rowlist {row_list}')\n",
    "print(f'dest {destination_range}')"
   ]
  },
  {
   "cell_type": "code",
   "execution_count": 8,
   "metadata": {},
   "outputs": [
    {
     "name": "stdout",
     "output_type": "stream",
     "text": [
      "(array([], dtype=int64),)\n"
     ]
    }
   ],
   "source": [
    "print(np.where(source_range==seed))"
   ]
  },
  {
   "cell_type": "code",
   "execution_count": 3,
   "metadata": {},
   "outputs": [
    {
     "ename": "",
     "evalue": "",
     "output_type": "error",
     "traceback": [
      "\u001b[1;31mThe Kernel crashed while executing code in the the current cell or a previous cell. Please review the code in the cell(s) to identify a possible cause of the failure. Click <a href='https://aka.ms/vscodeJupyterKernelCrash'>here</a> for more info. View Jupyter <a href='command:jupyter.viewOutput'>log</a> for further details."
     ]
    }
   ],
   "source": [
    "np.isin(source_range, seed)"
   ]
  }
 ],
 "metadata": {
  "kernelspec": {
   "display_name": "adaml",
   "language": "python",
   "name": "python3"
  },
  "language_info": {
   "codemirror_mode": {
    "name": "ipython",
    "version": 3
   },
   "file_extension": ".py",
   "mimetype": "text/x-python",
   "name": "python",
   "nbconvert_exporter": "python",
   "pygments_lexer": "ipython3",
   "version": "3.9.18"
  }
 },
 "nbformat": 4,
 "nbformat_minor": 2
}
