{
 "cells": [
  {
   "cell_type": "code",
   "execution_count": 4,
   "metadata": {},
   "outputs": [],
   "source": [
    "import csv\n",
    "import numpy as np\n",
    "rows = []\n",
    "with open('data.csv', newline='') as csvfile:\n",
    "    spamreader = csv.reader(csvfile, delimiter=' ')\n",
    "    for row in spamreader:\n",
    "        rows.append(row)\n"
   ]
  },
  {
   "cell_type": "code",
   "execution_count": 35,
   "metadata": {},
   "outputs": [],
   "source": [
    "winning = []\n",
    "numbers = []\n",
    "card_number = np.arange(1,len(rows)+1)\n",
    "\n",
    "for row in rows:\n",
    "    idx = row.index('|')\n",
    "    idx_dot = next((i for i, s in enumerate(row) if ':' in s), None)\n",
    "    \n",
    "    w = row[idx_dot+1:idx]\n",
    "    n = row[idx+1:]\n",
    "\n",
    "    w = [i for i in w if i]\n",
    "    n = [i for i in n if i]\n",
    "\n",
    "    winning.append(list(map(int, w)))\n",
    "    numbers.append(list(map(int, n)))"
   ]
  },
  {
   "cell_type": "code",
   "execution_count": 37,
   "metadata": {},
   "outputs": [
    {
     "name": "stdout",
     "output_type": "stream",
     "text": [
      "32001\n"
     ]
    }
   ],
   "source": [
    "points = 0\n",
    "for idx, row in enumerate(numbers):\n",
    "    \n",
    "    wins = np.array(winning[idx])\n",
    "    nums = np.array(row)\n",
    "\n",
    "    wins_exponent = np.sum(np.isin(wins, nums))\n",
    "    \n",
    "    if wins_exponent == 0:\n",
    "        points += 0\n",
    "    else:\n",
    "        rowpoints = 1\n",
    "        #points += np.power(2, wins_exponent-1)\n",
    "        for ii in range(1, wins_exponent):\n",
    "            \n",
    "            rowpoints = rowpoints*2\n",
    "        points += rowpoints\n",
    "\n",
    "print(points)\n"
   ]
  },
  {
   "cell_type": "markdown",
   "metadata": {},
   "source": [
    "second"
   ]
  },
  {
   "cell_type": "code",
   "execution_count": 54,
   "metadata": {},
   "outputs": [],
   "source": [
    "cardpile = np.ones(card_number.shape)\n",
    "for idx, row in enumerate(numbers):\n",
    "    \n",
    "    wins = np.array(winning[idx])\n",
    "    nums = np.array(row)\n",
    "\n",
    "    wins_exponent = np.sum(np.isin(wins, nums))\n",
    "    \n",
    "    if wins_exponent == 0:\n",
    "        pass\n",
    "    else:\n",
    "        for ii in range(1, wins_exponent+1):\n",
    "            cardpile[idx+ii] += cardpile[idx]"
   ]
  },
  {
   "cell_type": "code",
   "execution_count": 55,
   "metadata": {},
   "outputs": [
    {
     "data": {
      "text/plain": [
       "5037841.0"
      ]
     },
     "execution_count": 55,
     "metadata": {},
     "output_type": "execute_result"
    }
   ],
   "source": [
    "np.sum(cardpile)"
   ]
  },
  {
   "cell_type": "code",
   "execution_count": 49,
   "metadata": {},
   "outputs": [
    {
     "name": "stdout",
     "output_type": "stream",
     "text": [
      "1\n",
      "2\n",
      "3\n"
     ]
    }
   ],
   "source": [
    "for ii in range(1, 4):\n",
    "    print(ii)"
   ]
  },
  {
   "cell_type": "code",
   "execution_count": null,
   "metadata": {},
   "outputs": [],
   "source": []
  }
 ],
 "metadata": {
  "kernelspec": {
   "display_name": "adaml",
   "language": "python",
   "name": "python3"
  },
  "language_info": {
   "codemirror_mode": {
    "name": "ipython",
    "version": 3
   },
   "file_extension": ".py",
   "mimetype": "text/x-python",
   "name": "python",
   "nbconvert_exporter": "python",
   "pygments_lexer": "ipython3",
   "version": "3.9.18"
  }
 },
 "nbformat": 4,
 "nbformat_minor": 2
}
